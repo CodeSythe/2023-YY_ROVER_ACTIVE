{
 "cells": [
  {
   "cell_type": "code",
   "execution_count": null,
   "metadata": {},
   "outputs": [],
   "source": [
    "from StepperLib import Stepper, Stepper_ULN2003\n",
    "from pyfirmata2 import ArduinoMega, Arduino\n",
    "from time import sleep"
   ]
  },
  {
   "cell_type": "code",
   "execution_count": null,
   "metadata": {},
   "outputs": [],
   "source": [
    "board = Arduino(Arduino.AUTODETECT)\n",
    "print(\"Communication started...\")\n",
    "\n",
    "# Base stepper pins:\n",
    "dir_pin = 1\n",
    "step_pin = 2\n",
    "micro_step_pins = (3, 4, 5)\n",
    "# Servo 1:\n",
    "servo1_pin = 6\n",
    "# Servo 2:\n",
    "servo2_pin = 7\n",
    "# Servo 3:\n",
    "servo3_pin = 8\n",
    "# Gripper stepper pins:\n",
    "gripper_pins = (9, 10, 11, 12)\n",
    "\n",
    "base = Stepper(board=board, dir_pin=dir_pin, step_pin=step_pin, micro_step_pins=micro_step_pins)\n",
    "servo1 = board.get_pin(f\"d:{servo1_pin}:s\")\n",
    "servo2 = board.get_pin(f\"d:{servo2_pin}:s\")\n",
    "servo3 = board.get_pin(f\"d:{servo3_pin}:s\")\n",
    "gripper = Stepper_ULN2003(board=board, pins=gripper_pins)"
   ]
  }
 ],
 "metadata": {
  "kernelspec": {
   "display_name": "rover",
   "language": "python",
   "name": "python3"
  },
  "language_info": {
   "name": "python",
   "version": "3.11.2"
  }
 },
 "nbformat": 4,
 "nbformat_minor": 2
}
