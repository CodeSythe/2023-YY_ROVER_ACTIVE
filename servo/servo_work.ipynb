{
 "cells": [
  {
   "cell_type": "code",
   "execution_count": 3,
   "metadata": {},
   "outputs": [],
   "source": [
    "from pyfirmata2 import Arduino, util\n",
    "from time import sleep\n",
    "from sympy import cos, sin, atan2\n",
    "from sympy.matrices import Matrix\n",
    "from numpy import pi\n",
    "import matplotlib.pyplot as plt\n",
    "import numpy as np\n"
   ]
  },
  {
   "cell_type": "code",
   "execution_count": 4,
   "metadata": {},
   "outputs": [],
   "source": [
    "def inv_kin_3(pos, lengths):\n",
    "  x, y, z = pos\n",
    "  l1, l2, l3 = lengths\n",
    "\n",
    "  # parallel handling\n",
    "  kx = x - l3 # l1*s1 + l2*s12\n",
    "  ky = y      # l1*c1 + l2*c12\n",
    "\n",
    "  c2 = (kx**2 + ky**2 - l1**2 - l2**2)/(2*l1*l2)\n",
    "  s2 = np.sqrt(1-c2**2)\n",
    "  theta_2 = float(atan2(s2, c2))\n",
    "\n",
    "  M = Matrix([\n",
    "    [l1+l2*c2, l2*s2],\n",
    "    [-l2*s2  , l1+l2*c2]\n",
    "  ])\n",
    "  M_inv = M.inv()\n",
    "  s1, c1 = M_inv*Matrix(2, 1, [kx, ky])\n",
    "  theta_1 = float(atan2(s1, c1))\n",
    "  theta_3 = pi/2 - theta_1 - theta_2\n",
    "  angles = [theta_1, theta_2, theta_3]\n",
    "  Plot(tuple(angles), pos, lengths)\n",
    "  return np.array(angles)*180/pi\n",
    "\n",
    "def Plot(angles, pos, lengths):\n",
    "  x, y, z = pos\n",
    "  l1, l2, l3 = lengths\n",
    "  a1, a2, a3 = angles\n",
    "  plt.xlim((-50, 75))\n",
    "  plt.ylim((-50, 75))\n",
    "  \n",
    "  xs = [0, l1*sin(a1), l1*sin(a1)+l2*sin(a1+a2), l1*sin(a1)+l2*sin(a1+a2)+l3*sin(a1+a2+a3)]\n",
    "  ys = [0, l1*cos(a1), l1*cos(a1)+l2*cos(a1+a2), l1*cos(a1)+l2*cos(a1+a2)+l3*cos(a1+a2+a3)]\n",
    "\n",
    "  plt.plot(xs, ys)\n",
    "  plt.plot(x, y, 'ro')\n",
    "\n",
    "  kx = x - l3 # l1*s1 + l2*s12\n",
    "  ky = y      # l1*c1 + l2*c12\n",
    "  plt.plot(kx, ky, 'ro')\n",
    "  plt.plot(0, 0, 'ro')\n",
    "  plt.show()\n",
    "  # plt.savefig('plot.png')"
   ]
  },
  {
   "cell_type": "code",
   "execution_count": 5,
   "metadata": {},
   "outputs": [
    {
     "data": {
      "image/png": "[encoded data removed]",
      "text/plain": [
       "<Figure size 640x480 with 1 Axes>"
      ]
     },
     "metadata": {},
     "output_type": "display_data"
    },
    {
     "name": "stdout",
     "output_type": "stream",
     "text": [
      "[ 6.83336693 52.61680158 30.54983149]\n"
     ]
    }
   ],
   "source": [
    "lengths = (35, 30, 20)\n",
    "position = (50, 50, 40)\n",
    "angles = inv_kin_3(position, lengths)\n",
    "print(angles)"
   ]
  },
  {
   "cell_type": "code",
   "execution_count": 123,
   "metadata": {},
   "outputs": [
    {
     "name": "stdout",
     "output_type": "stream",
     "text": [
      "None\n",
      "Communication started...\n"
     ]
    }
   ],
   "source": [
    "dev = Arduino.AUTODETECT\n",
    "print(dev)\n",
    "board = Arduino(dev)\n",
    "print(\"Communication started...\")\n",
    "hinge1 = board.get_pin('d:9:s')\n",
    "hinge2 = board.get_pin('d:10:s')\n",
    "hinge3 = board.get_pin('d:11:s')\n",
    "# led = board.get_pin('d:13:o')"
   ]
  },
  {
   "cell_type": "code",
   "execution_count": 71,
   "metadata": {},
   "outputs": [
    {
     "data": {
      "text/plain": [
       "0"
      ]
     },
     "execution_count": 71,
     "metadata": {},
     "output_type": "execute_result"
    }
   ],
   "source": [
    "# hinge1.read(), hinge2.read(), hinge3.read()"
   ]
  },
  {
   "cell_type": "code",
   "execution_count": 124,
   "metadata": {},
   "outputs": [],
   "source": [
    "def set_angle(srvo, angle):\n",
    "    start = srvo.read()\n",
    "    if start < angle:\n",
    "        for i in range(start, angle+1):\n",
    "            srvo.write(i)\n",
    "            sleep(0.01)\n",
    "    else:\n",
    "        for i in range(start, angle-1, -1):\n",
    "            srvo.write(i)\n",
    "            sleep(0.01)\n"
   ]
  },
  {
   "cell_type": "code",
   "execution_count": 127,
   "metadata": {},
   "outputs": [],
   "source": [
    "set_angle(hinge1, 90)"
   ]
  },
  {
   "cell_type": "code",
   "execution_count": 128,
   "metadata": {},
   "outputs": [
    {
     "data": {
      "text/plain": [
       "90"
      ]
     },
     "execution_count": 128,
     "metadata": {},
     "output_type": "execute_result"
    }
   ],
   "source": [
    "hinge1.read()"
   ]
  },
  {
   "cell_type": "code",
   "execution_count": 110,
   "metadata": {},
   "outputs": [],
   "source": [
    "hinge2.write(90)"
   ]
  },
  {
   "cell_type": "code",
   "execution_count": 52,
   "metadata": {},
   "outputs": [
    {
     "ename": "KeyboardInterrupt",
     "evalue": "",
     "output_type": "error",
     "traceback": [
      "\u001b[0;31m---------------------------------------------------------------------------\u001b[0m",
      "\u001b[0;31mKeyboardInterrupt\u001b[0m                         Traceback (most recent call last)",
      "Cell \u001b[0;32mIn[52], line 7\u001b[0m\n\u001b[1;32m      5\u001b[0m \u001b[38;5;28;01mwhile\u001b[39;00m \u001b[38;5;28;01mTrue\u001b[39;00m:\n\u001b[1;32m      6\u001b[0m     \u001b[38;5;28;01mfor\u001b[39;00m i \u001b[38;5;129;01min\u001b[39;00m \u001b[38;5;28mrange\u001b[39m(\u001b[38;5;28mint\u001b[39m(\u001b[38;5;28mmax\u001b[39m(n\u001b[38;5;241m*\u001b[39ma, n\u001b[38;5;241m*\u001b[39mstart)), n\u001b[38;5;241m*\u001b[39mb):\n\u001b[0;32m----> 7\u001b[0m         \u001b[43mhinge1\u001b[49m\u001b[38;5;241;43m.\u001b[39;49m\u001b[43mwrite\u001b[49m\u001b[43m(\u001b[49m\u001b[43mi\u001b[49m\u001b[38;5;241;43m/\u001b[39;49m\u001b[43mn\u001b[49m\u001b[43m)\u001b[49m\n\u001b[1;32m      8\u001b[0m         \u001b[38;5;66;03m# hinge2.write(i/n)\u001b[39;00m\n\u001b[1;32m      9\u001b[0m         \u001b[38;5;66;03m# hinge3.write(i/n)\u001b[39;00m\n\u001b[1;32m     10\u001b[0m         sleep(\u001b[38;5;241m0.1\u001b[39m)\n",
      "File \u001b[0;32m~/Rover/lib/python3.12/site-packages/pyfirmata2/pyfirmata2.py:639\u001b[0m, in \u001b[0;36mPin.write\u001b[0;34m(self, value)\u001b[0m\n\u001b[1;32m    637\u001b[0m value \u001b[38;5;241m=\u001b[39m \u001b[38;5;28mint\u001b[39m(value)\n\u001b[1;32m    638\u001b[0m msg \u001b[38;5;241m=\u001b[39m \u001b[38;5;28mbytearray\u001b[39m([ANALOG_MESSAGE \u001b[38;5;241m+\u001b[39m \u001b[38;5;28mself\u001b[39m\u001b[38;5;241m.\u001b[39mpin_number, value \u001b[38;5;241m%\u001b[39m \u001b[38;5;241m128\u001b[39m, value \u001b[38;5;241m>>\u001b[39m \u001b[38;5;241m7\u001b[39m])\n\u001b[0;32m--> 639\u001b[0m \u001b[38;5;28;43mself\u001b[39;49m\u001b[38;5;241;43m.\u001b[39;49m\u001b[43mboard\u001b[49m\u001b[38;5;241;43m.\u001b[39;49m\u001b[43msp\u001b[49m\u001b[38;5;241;43m.\u001b[39;49m\u001b[43mwrite\u001b[49m\u001b[43m(\u001b[49m\u001b[43mmsg\u001b[49m\u001b[43m)\u001b[49m\n",
      "File \u001b[0;32m~/Rover/lib/python3.12/site-packages/serial/serialposix.py:640\u001b[0m, in \u001b[0;36mSerial.write\u001b[0;34m(self, data)\u001b[0m\n\u001b[1;32m    638\u001b[0m \u001b[38;5;28;01massert\u001b[39;00m timeout\u001b[38;5;241m.\u001b[39mtime_left() \u001b[38;5;129;01mis\u001b[39;00m \u001b[38;5;28;01mNone\u001b[39;00m\n\u001b[1;32m    639\u001b[0m \u001b[38;5;66;03m# wait for write operation\u001b[39;00m\n\u001b[0;32m--> 640\u001b[0m abort, ready, _ \u001b[38;5;241m=\u001b[39m \u001b[43mselect\u001b[49m\u001b[38;5;241;43m.\u001b[39;49m\u001b[43mselect\u001b[49m\u001b[43m(\u001b[49m\u001b[43m[\u001b[49m\u001b[38;5;28;43mself\u001b[39;49m\u001b[38;5;241;43m.\u001b[39;49m\u001b[43mpipe_abort_write_r\u001b[49m\u001b[43m]\u001b[49m\u001b[43m,\u001b[49m\u001b[43m \u001b[49m\u001b[43m[\u001b[49m\u001b[38;5;28;43mself\u001b[39;49m\u001b[38;5;241;43m.\u001b[39;49m\u001b[43mfd\u001b[49m\u001b[43m]\u001b[49m\u001b[43m,\u001b[49m\u001b[43m \u001b[49m\u001b[43m[\u001b[49m\u001b[43m]\u001b[49m\u001b[43m,\u001b[49m\u001b[43m \u001b[49m\u001b[38;5;28;43;01mNone\u001b[39;49;00m\u001b[43m)\u001b[49m\n\u001b[1;32m    641\u001b[0m \u001b[38;5;28;01mif\u001b[39;00m abort:\n\u001b[1;32m    642\u001b[0m     os\u001b[38;5;241m.\u001b[39mread(\u001b[38;5;28mself\u001b[39m\u001b[38;5;241m.\u001b[39mpipe_abort_write_r, \u001b[38;5;241m1\u001b[39m)\n",
      "\u001b[0;31mKeyboardInterrupt\u001b[0m: "
     ]
    }
   ],
   "source": [
    "a, b = 90, 120\n",
    "n = 30\n",
    "t = 25/(n*1000)\n",
    "start = hinge1.read()\n",
    "while True:\n",
    "    for i in range(int(max(n*a, n*start)), n*b):\n",
    "        hinge1.write(i/n)\n",
    "        # hinge2.write(i/n)\n",
    "        # hinge3.write(i/n)\n",
    "        sleep(0.1)\n",
    "    for i in range(n*b, n*a, -1):\n",
    "        hinge1.write(i/n)\n",
    "        # hinge2.write(i/n)\n",
    "        # hinge3.write(i/n)\n",
    "        sleep(0.1)\n",
    "    start = 0"
   ]
  },
  {
   "cell_type": "code",
   "execution_count": 85,
   "metadata": {},
   "outputs": [
    {
     "ename": "KeyboardInterrupt",
     "evalue": "",
     "output_type": "error",
     "traceback": [
      "\u001b[0;31m---------------------------------------------------------------------------\u001b[0m",
      "\u001b[0;31mKeyboardInterrupt\u001b[0m                         Traceback (most recent call last)",
      "Cell \u001b[0;32mIn[85], line 12\u001b[0m\n\u001b[1;32m     10\u001b[0m \u001b[38;5;28;01mfor\u001b[39;00m i \u001b[38;5;129;01min\u001b[39;00m \u001b[38;5;28mrange\u001b[39m(n\u001b[38;5;241m*\u001b[39mb, n\u001b[38;5;241m*\u001b[39ma, \u001b[38;5;241m-\u001b[39m\u001b[38;5;241m1\u001b[39m):\n\u001b[1;32m     11\u001b[0m     servo\u001b[38;5;241m.\u001b[39mwrite(i\u001b[38;5;241m/\u001b[39mn)\n\u001b[0;32m---> 12\u001b[0m     \u001b[43msleep\u001b[49m\u001b[43m(\u001b[49m\u001b[43mt\u001b[49m\u001b[43m)\u001b[49m\n\u001b[1;32m     13\u001b[0m sleep(\u001b[38;5;241m0.1\u001b[39m)\n\u001b[1;32m     14\u001b[0m start \u001b[38;5;241m=\u001b[39m \u001b[38;5;241m0\u001b[39m\n",
      "\u001b[0;31mKeyboardInterrupt\u001b[0m: "
     ]
    }
   ],
   "source": [
    "a, b = 90, 120\n",
    "n = 30\n",
    "t = 25/(1000*n)\n",
    "start = servo.read()\n",
    "while True:\n",
    "    for i in range(int(max(n*a, n*start)), n*b):\n",
    "        servo.write(i/n)\n",
    "        sleep(t)\n",
    "    sleep(0.1)\n",
    "    for i in range(n*b, n*a, -1):\n",
    "        servo.write(i/n)\n",
    "        sleep(t)\n",
    "    sleep(0.1)\n",
    "    start = 0\n"
   ]
  },
  {
   "cell_type": "code",
   "execution_count": 106,
   "metadata": {},
   "outputs": [],
   "source": [
    "def Plot(angles, l1=35, l2=30):\n",
    "  a1, a2 = angles*pi/180\n",
    "  # plt.xlim((-5, 5))\n",
    "  # plt.ylim((-5, 5))\n",
    "  xs = [0, l1*sin(a1), l1*sin(a1)+l2*sin(a1+a2)]\n",
    "  ys = [0, l1*cos(a1), l1*cos(a1)+l2*cos(a1+a2)]\n",
    "\n",
    "  plt.plot(xs, ys)\n",
    "  plt.plot(x, y, 'ro')\n",
    "  plt.plot(0, 0, 'ro')\n",
    "  plt.show()\n"
   ]
  },
  {
   "cell_type": "code",
   "execution_count": 96,
   "metadata": {},
   "outputs": [],
   "source": [
    "def inv_kin(x, y, l1=35, l2=30):\n",
    "  c2 = (x**2 + y**2 - l1**2 - l2**2)/(2*l1*l2)\n",
    "  s2 = np.sqrt(1-c2**2)\n",
    "  theta_2 = float(atan2(s2, c2))\n",
    "\n",
    "  M = Matrix([\n",
    "    [l1+l2*c2, l2*s2],\n",
    "    [-l2*s2  , l1+l2*c2]\n",
    "  ])\n",
    "  M_inv = M.inv()\n",
    "  s1, c1 = M_inv*Matrix(2, 1, [x, y])\n",
    "  theta_1 = float(atan2(s1, c1))\n",
    "\n",
    "  angles = np.array([theta_1, theta_2])*180/pi\n",
    "  # print(theta_1)\n",
    "\n",
    "  # Plot((theta_1, theta_2))\n",
    "  # print(s1, s2, c1, c2)\n",
    "\n",
    "  return angles"
   ]
  },
  {
   "cell_type": "code",
   "execution_count": 107,
   "metadata": {},
   "outputs": [
    {
     "name": "stdout",
     "output_type": "stream",
     "text": [
      "[10.71498018 97.52463022]\n"
     ]
    },
    {
     "data": {
      "image/png": "[encoded data removed]",
      "text/plain": [
       "<Figure size 640x480 with 1 Axes>"
      ]
     },
     "metadata": {},
     "output_type": "display_data"
    }
   ],
   "source": [
    "x, y = 35, 25\n",
    "\n",
    "angles = inv_kin(x, y)\n",
    "print(angles) \n",
    "Plot(angles)"
   ]
  },
  {
   "cell_type": "code",
   "execution_count": null,
   "metadata": {},
   "outputs": [],
   "source": [
    "a, b = angles\n",
    "n = 30\n",
    "t = 25/(1000*n)\n",
    "start1 = hinge1.read()\n",
    "start2 = hinge2.read()\n",
    "\n",
    "for i in range(start1, 0, -1):\n",
    "    hinge1.write(i/n)\n",
    "    sleep(t)\n",
    "\n",
    "sleep(0.1)\n",
    "\n",
    "for i in range(n*a, n*b):\n",
    "    hinge2.write(i/n)\n",
    "    sleep(t)"
   ]
  },
  {
   "cell_type": "code",
   "execution_count": null,
   "metadata": {},
   "outputs": [],
   "source": []
  }
 ],
 "metadata": {
  "kernelspec": {
   "display_name": "Rover",
   "language": "python",
   "name": "python3"
  },
  "language_info": {
   "codemirror_mode": {
    "name": "ipython",
    "version": 3
   },
   "file_extension": ".py",
   "mimetype": "text/x-python",
   "name": "python",
   "nbconvert_exporter": "python",
   "pygments_lexer": "ipython3",
   "version": "3.12.4"
  }
 },
 "nbformat": 4,
 "nbformat_minor": 2
}
