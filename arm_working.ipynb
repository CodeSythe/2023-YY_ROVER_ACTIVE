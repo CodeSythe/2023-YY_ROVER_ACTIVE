{
 "cells": [
  {
   "cell_type": "code",
   "execution_count": 26,
   "metadata": {},
   "outputs": [],
   "source": [
    "from StepperLib import Stepper, Stepper_ULN2003\n",
    "from servo.servo import Servo\n",
    "from pyfirmata2 import ArduinoMega, Arduino\n",
    "from time import sleep\n",
    "from sympy import cos, sin, atan2\n",
    "from sympy.matrices import Matrix\n",
    "from numpy import pi\n",
    "import matplotlib.pyplot as plt\n",
    "import numpy as np\n",
    "import math"
   ]
  },
  {
   "cell_type": "code",
   "execution_count": 23,
   "metadata": {},
   "outputs": [],
   "source": [
    "def inv_kin(position, lengths=(35, 30, 30)):\n",
    "    \"\"\"\n",
    "    x : Rover forwardd\n",
    "    y : Rover right\n",
    "    z : Rover up\n",
    "    \"\"\"\n",
    "    # Ideally l1+l2 < x < l1+l2+l3\n",
    "    x, y, z = position\n",
    "    l1, l2, l3 = lengths\n",
    "    \n",
    "    base_angle = math.atan2(y, x)\n",
    "    deg_base_angle = (180/pi)*base_angle\n",
    "    \n",
    "    # parallel handling\n",
    "    kx = x - l3 # l1*s1 + l2*s12\n",
    "    kz = z      # l1*c1 + l2*c12\n",
    "\n",
    "    c2 = (kx**2 + kz**2 - l1**2 - l2**2)/(2*l1*l2)\n",
    "    s2 = np.sqrt(1-c2**2)\n",
    "    theta_2 = float(atan2(s2, c2))\n",
    "\n",
    "    M = Matrix([\n",
    "        [l1+l2*c2, l2*s2],\n",
    "        [-l2*s2  , l1+l2*c2]\n",
    "        ])\n",
    "    M_inv = M.inv()\n",
    "    s1, c1 = M_inv*Matrix(2, 1, [kx, kz])\n",
    "    theta_1 = float(atan2(s1, c1))\n",
    "\n",
    "    theta_3 = pi/2 - theta_1 - theta_2\n",
    "\n",
    "    angles = (theta_1, theta_2, theta_3)\n",
    "    Plot(position, angles, lengths)\n",
    "    deg_angles = ((180/pi)*theta_1, (180/pi)*theta_2, (180/pi)*theta_3)\n",
    "    return deg_base_angle, *deg_angles\n",
    "\n",
    "def Plot(position, angles, lengths=(35, 30, 30)):\n",
    "    x, y, z = position\n",
    "    l1, l2, l3 = lengths\n",
    "    a1, a2, a3 = angles\n",
    "    \n",
    "    plt.xlim((-50, 75))\n",
    "    plt.ylim((-50, 75))\n",
    "    \n",
    "    xs = [0, l1*sin(a1), l1*sin(a1)+l2*sin(a1+a2), l1*sin(a1)+l2*sin(a1+a2)+l3*sin(a1+a2+a3)]\n",
    "    zs = [0, l1*cos(a1), l1*cos(a1)+l2*cos(a1+a2), l1*cos(a1)+l2*cos(a1+a2)+l3*cos(a1+a2+a3)]\n",
    "\n",
    "    plt.plot(xs, zs)\n",
    "    plt.plot(x, z, 'ro')\n",
    "\n",
    "    kx = x - l3 # l1*s1 + l2*s12\n",
    "    kz = z      # l1*c1 + l2*c12\n",
    "    plt.plot(kx, kz, 'ro')\n",
    "    plt.plot(0, 0, 'ro')\n",
    "    plt.show()"
   ]
  },
  {
   "cell_type": "code",
   "execution_count": 25,
   "metadata": {},
   "outputs": [
    {
     "data": {
      "image/png": "[encoded data removed]",
      "text/plain": [
       "<Figure size 640x480 with 1 Axes>"
      ]
     },
     "metadata": {},
     "output_type": "display_data"
    },
    {
     "name": "stdout",
     "output_type": "stream",
     "text": [
      "(-26.56505117707799, -28.072486935852965, 90.0, 28.072486935852968)\n"
     ]
    }
   ],
   "source": [
    "print(inv_kin((40, -20, 45)))"
   ]
  },
  {
   "cell_type": "code",
   "execution_count": null,
   "metadata": {},
   "outputs": [],
   "source": [
    "# Which arduino you're using?\n",
    "arduino = ArduinoMega\n",
    "\n",
    "board = arduino(arduino.AUTODETECT)\n",
    "print(\"Communication started...\")\n",
    "\n",
    "# Base stepper pins:\n",
    "dir_pin = 1\n",
    "step_pin = 2\n",
    "micro_step_pins = (3, 4, 5)\n",
    "# Servo 1:\n",
    "servo1_pin = 6\n",
    "# Servo 2:\n",
    "servo2_pin = 7\n",
    "# Servo 3:\n",
    "servo3_pin = 8\n",
    "# Gripper stepper pins:\n",
    "gripper_pins = (9, 10, 11, 12)\n",
    "\n",
    "base = Stepper(board=board, dir_pin=dir_pin, step_pin=step_pin, micro_step_pins=micro_step_pins)\n",
    "servo1 = Servo(board=board, pin=servo1_pin)\n",
    "servo2 = Servo(board=board, pin=servo2_pin)\n",
    "servo3 = Servo(board=board, pin=servo3_pin)\n",
    "gripper = Stepper_ULN2003(board=board, pins=gripper_pins)"
   ]
  },
  {
   "cell_type": "code",
   "execution_count": null,
   "metadata": {},
   "outputs": [],
   "source": [
    "pos = tuple(map(int, input(\"Enter position separated by ',' (e.g. x, y, z): \").split(\", \")))\n",
    "lengths = (35, 30, 30)\n",
    "base_angle, theta_1, theta_2, theta_3 = inv_kin(pos, lengths)\n",
    "\n",
    "# Set base stepper angle\n",
    "base.turn_angle(base_angle)\n",
    "\n",
    "# Set hinge servo angles\n",
    "servo1.turn_angle(theta_1)\n",
    "servo2.turn_angle(theta_2)\n",
    "servo3.turn_angle(theta_3)\n",
    "\n",
    "# Set number of rotations for gripper stepper\n",
    "gripper.rotate(num_rotations=1, direction=True)"
   ]
  }
 ],
 "metadata": {
  "kernelspec": {
   "display_name": "rover",
   "language": "python",
   "name": "python3"
  },
  "language_info": {
   "codemirror_mode": {
    "name": "ipython",
    "version": 3
   },
   "file_extension": ".py",
   "mimetype": "text/x-python",
   "name": "python",
   "nbconvert_exporter": "python",
   "pygments_lexer": "ipython3",
   "version": "3.11.2"
  }
 },
 "nbformat": 4,
 "nbformat_minor": 2
}
